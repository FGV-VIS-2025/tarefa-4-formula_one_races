{
 "cells": [
  {
   "cell_type": "code",
   "execution_count": 4,
   "id": "8a359c6f",
   "metadata": {},
   "outputs": [],
   "source": [
    "import os\n",
    "import shutil"
   ]
  },
  {
   "cell_type": "code",
   "execution_count": 8,
   "id": "632720c2",
   "metadata": {},
   "outputs": [],
   "source": [
    "path = 'C:/Code/FGV/Visualizacao/tarefa-4-formula_one_races/static/images/constructors'"
   ]
  },
  {
   "cell_type": "code",
   "execution_count": 9,
   "id": "a166f259",
   "metadata": {},
   "outputs": [],
   "source": [
    "for img in os.listdir(path):\n",
    "    file_name = os.path.join(path, img)\n",
    "    new_file_name = file_name.replace('.JPG', '.jpg')\n",
    "    os.rename(file_name, new_file_name)"
   ]
  },
  {
   "cell_type": "code",
   "execution_count": 10,
   "id": "a9d95184",
   "metadata": {},
   "outputs": [
    {
     "name": "stderr",
     "output_type": "stream",
     "text": [
      "c:\\Code\\FGV\\Visualizacao\\tarefa-4-formula_one_races\\env\\Lib\\site-packages\\PIL\\Image.py:1043: UserWarning: Palette images with Transparency expressed in bytes should be converted to RGBA images\n",
      "  warnings.warn(\n"
     ]
    }
   ],
   "source": [
    "from PIL import Image\n",
    "\n",
    "for img in os.listdir(path):\n",
    "    if img.endswith('.png'):\n",
    "        file_name = os.path.join(path, img)\n",
    "        new_file_name = file_name.replace('.png', '.jpg')\n",
    "        with Image.open(file_name) as image:\n",
    "            rgb_image = image.convert('RGB')\n",
    "            rgb_image.save(new_file_name)\n",
    "        os.remove(file_name)  # Remove the original .png file"
   ]
  },
  {
   "cell_type": "code",
   "execution_count": null,
   "id": "e4915743",
   "metadata": {},
   "outputs": [],
   "source": []
  }
 ],
 "metadata": {
  "kernelspec": {
   "display_name": "env",
   "language": "python",
   "name": "python3"
  },
  "language_info": {
   "codemirror_mode": {
    "name": "ipython",
    "version": 3
   },
   "file_extension": ".py",
   "mimetype": "text/x-python",
   "name": "python",
   "nbconvert_exporter": "python",
   "pygments_lexer": "ipython3",
   "version": "3.12.9"
  }
 },
 "nbformat": 4,
 "nbformat_minor": 5
}
